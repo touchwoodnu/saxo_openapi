{
 "cells": [
  {
   "cell_type": "markdown",
   "metadata": {},
   "source": [
    "# Tutorial saxo_openapi\n",
    "\n",
    "\n",
    "## Which python version ?\n",
    "\n",
    "The *saxo_openapi* is developed using Python3. The example regarding the handling of [websocket streams](https://saxo-openapi.readthedocs.io/en/latest/examples.html) specifically requires Python 3.6 and up.\n",
    "\n",
    "### Jupyter from a virtual environment\n",
    "\n",
    "```bash\n",
    "$ # create a virtual environment\n",
    "$ python3 -m venv <location-for-virtualenv>\n",
    "$ # activate the virt. env\n",
    "$ . ./<location-for-virtualenv>/bin/activate\n",
    "$ # install Jupyter\n",
    "$ pip install jupyter\n",
    "```\n",
    "\n",
    "clone the *saxo_openapi* github repository and start Jupyter:\n",
    "\n",
    "```bash\n",
    "$ git clone https://github.com/hootnot/saxo_openapi\n",
    "$ cd saxo_openapi/jupyter\n",
    "# provide the SAXO token by editing token.txt\n",
    "$ # start Jupyter\n",
    "$ jupyter-notebook\n",
    "# ... will launch your brouwser with the notebook tree structure.\n",
    "```\n",
    "\n",
    "See, http://jupyter.org/install.html for all details regarding Jupyter.\n",
    "\n",
    "\n",
    "## Using *saxo_openapi*\n",
    "\n",
    "The *saxo_openapi* processes requests using a *client*, example: \n",
    "\n",
    "```python\n",
    "from saxo_openapi import API\n",
    "\n",
    "token = \"...\"\n",
    "client = API(access_token=token)\n",
    "\n",
    "# a request ...\n",
    "import saxo_openapi.endpoints.portfolio as pf\n",
    "\n",
    "r = pf.accounts.AccountsMe()\n",
    "rv = client.request(r)\n",
    "print(rv)\n",
    "...\n",
    "```\n",
    "\n",
    "That's all. "
   ]
  },
  {
   "cell_type": "markdown",
   "metadata": {},
   "source": [
    "## Setup\n",
    "\n",
    "To be able to run the code in these notebooks it is necessary to provide the token in *token.txt*.\n",
    "\n",
    "To run the notebook online the token can be provided via the TOKEN variable. If done so, it will be saved\n",
    "to *token.txt*."
   ]
  },
  {
   "cell_type": "code",
   "execution_count": 1,
   "metadata": {},
   "outputs": [],
   "source": [
    "# Provide your token:\n",
    "#   either edit the file token.txt OR\n",
    "#   provide the token in TOKEN\n",
    "\n",
    "TOKEN = \"\"\n",
    "if TOKEN:\n",
    "    with open(\"token.txt\", \"w\") as FHtok:\n",
    "        FHtok.write(TOKEN)"
   ]
  },
  {
   "cell_type": "markdown",
   "metadata": {},
   "source": [
    "### Notebooks explaining different components of *saxo_openapi*\n",
    "\n",
    "[accounts](./accounts.ipynb) |\n",
    "[balances](./balances.ipynb) |\n",
    "[instruments](./instrumentlookup.ipynb) |\n",
    "[trading](./trading.ipynb)"
   ]
  }
 ],
 "metadata": {
  "kernelspec": {
   "display_name": "Python 3",
   "language": "python",
   "name": "python3"
  },
  "language_info": {
   "codemirror_mode": {
    "name": "ipython",
    "version": 3
   },
   "file_extension": ".py",
   "mimetype": "text/x-python",
   "name": "python",
   "nbconvert_exporter": "python",
   "pygments_lexer": "ipython3",
   "version": "3.7.3"
  }
 },
 "nbformat": 4,
 "nbformat_minor": 2
}
